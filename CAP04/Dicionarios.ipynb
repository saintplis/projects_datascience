{
 "cells": [
  {
   "cell_type": "markdown",
   "id": "942e888c",
   "metadata": {},
   "source": [
    "# Dicionários"
   ]
  },
  {
   "cell_type": "code",
   "execution_count": 1,
   "id": "28d33efe",
   "metadata": {},
   "outputs": [],
   "source": [
    "estudantes_list = ['Pedro', 24, 'Ana', 22, 'Ronaldo', 26, 'Janaina', 25]"
   ]
  },
  {
   "cell_type": "code",
   "execution_count": 2,
   "id": "418e659a",
   "metadata": {},
   "outputs": [
    {
     "data": {
      "text/plain": [
       "['Pedro', 24, 'Ana', 22, 'Ronaldo', 26, 'Janaina', 25]"
      ]
     },
     "execution_count": 2,
     "metadata": {},
     "output_type": "execute_result"
    }
   ],
   "source": [
    "estudantes_list"
   ]
  },
  {
   "cell_type": "code",
   "execution_count": 3,
   "id": "b2652a89",
   "metadata": {
    "scrolled": true
   },
   "outputs": [
    {
     "data": {
      "text/plain": [
       "list"
      ]
     },
     "execution_count": 3,
     "metadata": {},
     "output_type": "execute_result"
    }
   ],
   "source": [
    "type(estudantes_list)"
   ]
  },
  {
   "cell_type": "code",
   "execution_count": 10,
   "id": "dc83439e",
   "metadata": {},
   "outputs": [],
   "source": [
    "# Isso é um dicionário\n",
    "estudantes_dict = {'Pedro':24, 'Ana':22, 'Ronaldo':26, 'Janaina':25}"
   ]
  },
  {
   "cell_type": "code",
   "execution_count": 11,
   "id": "00a9815a",
   "metadata": {},
   "outputs": [
    {
     "data": {
      "text/plain": [
       "{'Pedro': 24, 'Ana': 22, 'Ronaldo': 26, 'Janaina': 25}"
      ]
     },
     "execution_count": 11,
     "metadata": {},
     "output_type": "execute_result"
    }
   ],
   "source": [
    "estudantes_dict"
   ]
  },
  {
   "cell_type": "code",
   "execution_count": 12,
   "id": "ce5edcc3",
   "metadata": {},
   "outputs": [
    {
     "data": {
      "text/plain": [
       "dict"
      ]
     },
     "execution_count": 12,
     "metadata": {},
     "output_type": "execute_result"
    }
   ],
   "source": [
    "type(estudantes_dict)"
   ]
  },
  {
   "cell_type": "code",
   "execution_count": 13,
   "id": "081371f5",
   "metadata": {},
   "outputs": [
    {
     "data": {
      "text/plain": [
       "24"
      ]
     },
     "execution_count": 13,
     "metadata": {},
     "output_type": "execute_result"
    }
   ],
   "source": [
    "estudantes_dict['Pedro']"
   ]
  },
  {
   "cell_type": "code",
   "execution_count": 14,
   "id": "3dbb3e8c",
   "metadata": {},
   "outputs": [],
   "source": [
    "estudantes_dict['Marcelo'] = 23"
   ]
  },
  {
   "cell_type": "code",
   "execution_count": 15,
   "id": "86c0ec91",
   "metadata": {},
   "outputs": [
    {
     "data": {
      "text/plain": [
       "{'Pedro': 24, 'Ana': 22, 'Ronaldo': 26, 'Janaina': 25, 'Marcelo': 23}"
      ]
     },
     "execution_count": 15,
     "metadata": {},
     "output_type": "execute_result"
    }
   ],
   "source": [
    "estudantes_dict"
   ]
  },
  {
   "cell_type": "code",
   "execution_count": 16,
   "id": "51b49458",
   "metadata": {},
   "outputs": [],
   "source": [
    "estudantes_dict.clear()"
   ]
  },
  {
   "cell_type": "code",
   "execution_count": 17,
   "id": "ff7b06df",
   "metadata": {},
   "outputs": [
    {
     "data": {
      "text/plain": [
       "{}"
      ]
     },
     "execution_count": 17,
     "metadata": {},
     "output_type": "execute_result"
    }
   ],
   "source": [
    "estudantes_dict"
   ]
  },
  {
   "cell_type": "code",
   "execution_count": 18,
   "id": "f81e2291",
   "metadata": {},
   "outputs": [],
   "source": [
    "del(estudantes_dict)"
   ]
  },
  {
   "cell_type": "code",
   "execution_count": 20,
   "id": "d7c96c24",
   "metadata": {},
   "outputs": [],
   "source": [
    "estudantes = {'Pedro':24, 'Ana':22, 'Ronaldo':26, 'Janaina':25}"
   ]
  },
  {
   "cell_type": "code",
   "execution_count": 21,
   "id": "33dc9712",
   "metadata": {},
   "outputs": [
    {
     "data": {
      "text/plain": [
       "4"
      ]
     },
     "execution_count": 21,
     "metadata": {},
     "output_type": "execute_result"
    }
   ],
   "source": [
    "len(estudantes)"
   ]
  },
  {
   "cell_type": "code",
   "execution_count": 23,
   "id": "c3e94a87",
   "metadata": {},
   "outputs": [
    {
     "data": {
      "text/plain": [
       "dict_keys(['Pedro', 'Ana', 'Ronaldo', 'Janaina'])"
      ]
     },
     "execution_count": 23,
     "metadata": {},
     "output_type": "execute_result"
    }
   ],
   "source": [
    "estudantes.keys()"
   ]
  },
  {
   "cell_type": "code",
   "execution_count": 24,
   "id": "b74b541f",
   "metadata": {},
   "outputs": [
    {
     "data": {
      "text/plain": [
       "dict_values([24, 22, 26, 25])"
      ]
     },
     "execution_count": 24,
     "metadata": {},
     "output_type": "execute_result"
    }
   ],
   "source": [
    "estudantes.values()"
   ]
  },
  {
   "cell_type": "code",
   "execution_count": 25,
   "id": "247ed324",
   "metadata": {},
   "outputs": [
    {
     "data": {
      "text/plain": [
       "dict_items([('Pedro', 24), ('Ana', 22), ('Ronaldo', 26), ('Janaina', 25)])"
      ]
     },
     "execution_count": 25,
     "metadata": {},
     "output_type": "execute_result"
    }
   ],
   "source": [
    "estudantes.items()"
   ]
  },
  {
   "cell_type": "code",
   "execution_count": 29,
   "id": "cc17e103",
   "metadata": {},
   "outputs": [],
   "source": [
    "estudantes2 = {'Gustavo':30, 'Joana':21, 'Vitor':24}"
   ]
  },
  {
   "cell_type": "code",
   "execution_count": 30,
   "id": "c5c65689",
   "metadata": {},
   "outputs": [],
   "source": [
    "estudantes.update(estudantes2)"
   ]
  },
  {
   "cell_type": "code",
   "execution_count": 32,
   "id": "568d18a0",
   "metadata": {},
   "outputs": [
    {
     "data": {
      "text/plain": [
       "{'Pedro': 24,\n",
       " 'Ana': 22,\n",
       " 'Ronaldo': 26,\n",
       " 'Janaina': 25,\n",
       " 'Gustavo': 30,\n",
       " 'Joana': 21,\n",
       " 'Vitor': 24}"
      ]
     },
     "execution_count": 32,
     "metadata": {},
     "output_type": "execute_result"
    }
   ],
   "source": [
    "estudantes"
   ]
  },
  {
   "cell_type": "code",
   "execution_count": 44,
   "id": "4d0fec67",
   "metadata": {},
   "outputs": [],
   "source": [
    "dict1 = {}"
   ]
  },
  {
   "cell_type": "code",
   "execution_count": 45,
   "id": "8cf77860",
   "metadata": {},
   "outputs": [
    {
     "data": {
      "text/plain": [
       "{}"
      ]
     },
     "execution_count": 45,
     "metadata": {},
     "output_type": "execute_result"
    }
   ],
   "source": [
    "dict1"
   ]
  },
  {
   "cell_type": "code",
   "execution_count": 46,
   "id": "24b40515",
   "metadata": {},
   "outputs": [],
   "source": [
    "dict1['Chave_um'] = 2"
   ]
  },
  {
   "cell_type": "code",
   "execution_count": 47,
   "id": "2a5fbfb6",
   "metadata": {},
   "outputs": [
    {
     "name": "stdout",
     "output_type": "stream",
     "text": [
      "{'Chave_um': 2}\n"
     ]
    }
   ],
   "source": [
    "print(dict1)"
   ]
  },
  {
   "cell_type": "code",
   "execution_count": 48,
   "id": "7578c602",
   "metadata": {},
   "outputs": [],
   "source": [
    "dict1[10] = 5"
   ]
  },
  {
   "cell_type": "code",
   "execution_count": 49,
   "id": "ece96d83",
   "metadata": {},
   "outputs": [
    {
     "data": {
      "text/plain": [
       "{'Chave_um': 2, 10: 5}"
      ]
     },
     "execution_count": 49,
     "metadata": {},
     "output_type": "execute_result"
    }
   ],
   "source": [
    "dict1"
   ]
  },
  {
   "cell_type": "code",
   "execution_count": 50,
   "id": "d1682da1",
   "metadata": {},
   "outputs": [],
   "source": [
    "dict1[9.13] = 'Python'"
   ]
  },
  {
   "cell_type": "code",
   "execution_count": 51,
   "id": "530dad29",
   "metadata": {},
   "outputs": [
    {
     "data": {
      "text/plain": [
       "{'Chave_um': 2, 10: 5, 9.13: 'Python'}"
      ]
     },
     "execution_count": 51,
     "metadata": {},
     "output_type": "execute_result"
    }
   ],
   "source": [
    "dict1"
   ]
  },
  {
   "cell_type": "code",
   "execution_count": 52,
   "id": "37577dec",
   "metadata": {},
   "outputs": [],
   "source": [
    "dict2 = {}"
   ]
  },
  {
   "cell_type": "code",
   "execution_count": 53,
   "id": "b0d2d54f",
   "metadata": {},
   "outputs": [],
   "source": [
    "dict2['teste'] = 10"
   ]
  },
  {
   "cell_type": "code",
   "execution_count": 54,
   "id": "f0757e14",
   "metadata": {},
   "outputs": [],
   "source": [
    "dict2['key'] = 'teste'"
   ]
  },
  {
   "cell_type": "code",
   "execution_count": 55,
   "id": "432c2cd5",
   "metadata": {},
   "outputs": [
    {
     "data": {
      "text/plain": [
       "{'teste': 10, 'key': 'teste'}"
      ]
     },
     "execution_count": 55,
     "metadata": {},
     "output_type": "execute_result"
    }
   ],
   "source": [
    "dict2"
   ]
  },
  {
   "cell_type": "code",
   "execution_count": 56,
   "id": "3e84dead",
   "metadata": {},
   "outputs": [],
   "source": [
    "dict3 = {}"
   ]
  },
  {
   "cell_type": "code",
   "execution_count": 57,
   "id": "a576b14e",
   "metadata": {},
   "outputs": [],
   "source": [
    "dict3['key1'] = 'Data Science'"
   ]
  },
  {
   "cell_type": "code",
   "execution_count": 58,
   "id": "75bbcfae",
   "metadata": {},
   "outputs": [],
   "source": [
    "dict3['key2'] = 10"
   ]
  },
  {
   "cell_type": "code",
   "execution_count": 59,
   "id": "38a461a6",
   "metadata": {},
   "outputs": [],
   "source": [
    "dict3['key3'] = 100"
   ]
  },
  {
   "cell_type": "code",
   "execution_count": 60,
   "id": "37aef936",
   "metadata": {},
   "outputs": [
    {
     "data": {
      "text/plain": [
       "{'key1': 'Data Science', 'key2': 10, 'key3': 100}"
      ]
     },
     "execution_count": 60,
     "metadata": {},
     "output_type": "execute_result"
    }
   ],
   "source": [
    "dict3"
   ]
  },
  {
   "cell_type": "code",
   "execution_count": 61,
   "id": "0a1f5c5d",
   "metadata": {},
   "outputs": [],
   "source": [
    "a = dict3['key1']"
   ]
  },
  {
   "cell_type": "code",
   "execution_count": 62,
   "id": "e99f25b6",
   "metadata": {},
   "outputs": [],
   "source": [
    "b = dict3['key2']"
   ]
  },
  {
   "cell_type": "code",
   "execution_count": 63,
   "id": "0caad71f",
   "metadata": {},
   "outputs": [],
   "source": [
    "c = dict3['key3']"
   ]
  },
  {
   "cell_type": "code",
   "execution_count": 64,
   "id": "61c976ed",
   "metadata": {},
   "outputs": [
    {
     "data": {
      "text/plain": [
       "('Data Science', 10, 100)"
      ]
     },
     "execution_count": 64,
     "metadata": {},
     "output_type": "execute_result"
    }
   ],
   "source": [
    "a,b,c"
   ]
  },
  {
   "cell_type": "code",
   "execution_count": 76,
   "id": "4d605908",
   "metadata": {},
   "outputs": [],
   "source": [
    "# Dicionário de Listas\n",
    "dict4 = {'chave1':1230, 'chave2':[22,453,73.4], 'chave3':['picanha','fraldinha','alcatra']}"
   ]
  },
  {
   "cell_type": "code",
   "execution_count": 66,
   "id": "5ba8c3b0",
   "metadata": {},
   "outputs": [
    {
     "data": {
      "text/plain": [
       "{'chave1': 1230,\n",
       " 'chave2': [22, 453, 73.4],\n",
       " 'chave3': ['picanha', 'fraldinha', 'alcatra']}"
      ]
     },
     "execution_count": 66,
     "metadata": {},
     "output_type": "execute_result"
    }
   ],
   "source": [
    "dict4"
   ]
  },
  {
   "cell_type": "code",
   "execution_count": 68,
   "id": "c204112b",
   "metadata": {},
   "outputs": [
    {
     "data": {
      "text/plain": [
       "[22, 453, 73.4]"
      ]
     },
     "execution_count": 68,
     "metadata": {},
     "output_type": "execute_result"
    }
   ],
   "source": [
    "dict4['chave2']"
   ]
  },
  {
   "cell_type": "code",
   "execution_count": 69,
   "id": "dc75bad1",
   "metadata": {},
   "outputs": [
    {
     "data": {
      "text/plain": [
       "'PICANHA'"
      ]
     },
     "execution_count": 69,
     "metadata": {},
     "output_type": "execute_result"
    }
   ],
   "source": [
    "# Acessando um item da lista, dentro do dicionário\n",
    "dict4['chave3'][0].upper()"
   ]
  },
  {
   "cell_type": "code",
   "execution_count": 70,
   "id": "1c612654",
   "metadata": {},
   "outputs": [],
   "source": [
    "# Operações com itens da lista, dentro do dicionário\n",
    "var1 = dict4['chave2'][0] - 2"
   ]
  },
  {
   "cell_type": "code",
   "execution_count": 71,
   "id": "5400deb5",
   "metadata": {},
   "outputs": [
    {
     "data": {
      "text/plain": [
       "20"
      ]
     },
     "execution_count": 71,
     "metadata": {},
     "output_type": "execute_result"
    }
   ],
   "source": [
    "var1"
   ]
  },
  {
   "cell_type": "code",
   "execution_count": 77,
   "id": "257726db",
   "metadata": {},
   "outputs": [],
   "source": [
    "# Duas operações no mesmo comando, para atualizar um item dentro da lista\n",
    "dict4['chave2'][0] -= 2"
   ]
  },
  {
   "cell_type": "code",
   "execution_count": 78,
   "id": "b8e88b23",
   "metadata": {},
   "outputs": [
    {
     "data": {
      "text/plain": [
       "{'chave1': 1230,\n",
       " 'chave2': [20, 453, 73.4],\n",
       " 'chave3': ['picanha', 'fraldinha', 'alcatra']}"
      ]
     },
     "execution_count": 78,
     "metadata": {},
     "output_type": "execute_result"
    }
   ],
   "source": [
    "dict4"
   ]
  },
  {
   "cell_type": "markdown",
   "id": "7f609918",
   "metadata": {},
   "source": [
    "### Dicionários Aninhados"
   ]
  },
  {
   "cell_type": "code",
   "execution_count": 79,
   "id": "f7cb061f",
   "metadata": {},
   "outputs": [],
   "source": [
    "# Criando dicionários aninhados\n",
    "dict_aninhado = {'key1':{'key2_aninhada':{'key3_aninhada':'dict aninhado em python'}}}"
   ]
  },
  {
   "cell_type": "code",
   "execution_count": 80,
   "id": "bcdcbc9b",
   "metadata": {},
   "outputs": [
    {
     "data": {
      "text/plain": [
       "{'key1': {'key2_aninhada': {'key3_aninhada': 'dict aninhado em python'}}}"
      ]
     },
     "execution_count": 80,
     "metadata": {},
     "output_type": "execute_result"
    }
   ],
   "source": [
    "dict_aninhado"
   ]
  },
  {
   "cell_type": "code",
   "execution_count": 81,
   "id": "157ea18a",
   "metadata": {},
   "outputs": [
    {
     "data": {
      "text/plain": [
       "'dict aninhado em python'"
      ]
     },
     "execution_count": 81,
     "metadata": {},
     "output_type": "execute_result"
    }
   ],
   "source": [
    "dict_aninhado['key1']['key2_aninhada']['key3_aninhada']"
   ]
  },
  {
   "cell_type": "code",
   "execution_count": 83,
   "id": "94e65a2e",
   "metadata": {},
   "outputs": [
    {
     "data": {
      "text/plain": [
       "{'key3_aninhada': 'dict aninhado em python'}"
      ]
     },
     "execution_count": 83,
     "metadata": {},
     "output_type": "execute_result"
    }
   ],
   "source": [
    "dict_aninhado['key1']['key2_aninhada']"
   ]
  },
  {
   "cell_type": "markdown",
   "id": "64d6b05c",
   "metadata": {},
   "source": [
    "# Fim"
   ]
  }
 ],
 "metadata": {
  "kernelspec": {
   "display_name": "Python 3 (ipykernel)",
   "language": "python",
   "name": "python3"
  },
  "language_info": {
   "codemirror_mode": {
    "name": "ipython",
    "version": 3
   },
   "file_extension": ".py",
   "mimetype": "text/x-python",
   "name": "python",
   "nbconvert_exporter": "python",
   "pygments_lexer": "ipython3",
   "version": "3.9.16"
  }
 },
 "nbformat": 4,
 "nbformat_minor": 5
}
