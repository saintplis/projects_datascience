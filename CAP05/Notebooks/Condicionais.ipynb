{
 "cells": [
  {
   "cell_type": "markdown",
   "id": "23b0fa62",
   "metadata": {},
   "source": [
    "# Condicionais"
   ]
  },
  {
   "cell_type": "markdown",
   "id": "5ec5443b",
   "metadata": {},
   "source": [
    "Condicionais if, elif e else"
   ]
  },
  {
   "cell_type": "code",
   "execution_count": 1,
   "id": "8e836ac3",
   "metadata": {},
   "outputs": [
    {
     "name": "stdout",
     "output_type": "stream",
     "text": [
      "A sentença é verdadeira!\n"
     ]
    }
   ],
   "source": [
    "# Condicional If (se)\n",
    "if 5 > 2:\n",
    "    print('A sentença é verdadeira!')"
   ]
  },
  {
   "cell_type": "code",
   "execution_count": 2,
   "id": "cf9f8527",
   "metadata": {},
   "outputs": [
    {
     "name": "stdout",
     "output_type": "stream",
     "text": [
      "A sentença é falsa!\n"
     ]
    }
   ],
   "source": [
    "# Condicional If (Se)... Else (Senão)\n",
    "if 5 < 2:\n",
    "    print('A sentença é verdadeira!')\n",
    "else:\n",
    "    print('A sentença é falsa!')"
   ]
  },
  {
   "cell_type": "code",
   "execution_count": 5,
   "id": "8f0cde1e",
   "metadata": {},
   "outputs": [
    {
     "name": "stdout",
     "output_type": "stream",
     "text": [
      "Hoje vai chover!\n"
     ]
    }
   ],
   "source": [
    "# Condicional If...Else com variável\n",
    "dia = 'Terça'\n",
    "if dia == 'Segunda':\n",
    "    print('Hoje fará sol!')\n",
    "else:\n",
    "    print('Hoje vai chover!')"
   ]
  },
  {
   "cell_type": "code",
   "execution_count": 7,
   "id": "2946ce82",
   "metadata": {},
   "outputs": [
    {
     "name": "stdout",
     "output_type": "stream",
     "text": [
      "Ai eu já não sei meu parceiro, talvez chova, talvez não\n"
     ]
    }
   ],
   "source": [
    "# Podemos usar o operador elif para validar mais de uma condição\n",
    "dia = 'Quarta'\n",
    "if dia == 'Segunda':\n",
    "    print('Hoje fará sol!')\n",
    "elif dia == 'Terça':\n",
    "    print('Hoje vai chover!')\n",
    "else:\n",
    "    print('Ai eu já não sei meu parceiro, talvez chova, talvez não')"
   ]
  },
  {
   "cell_type": "markdown",
   "id": "a4c468e2",
   "metadata": {},
   "source": [
    "# Operadores Relacionais"
   ]
  },
  {
   "cell_type": "markdown",
   "id": "2277cc21",
   "metadata": {},
   "source": [
    "Retorna um valor booleano"
   ]
  },
  {
   "cell_type": "code",
   "execution_count": 9,
   "id": "c46588d9",
   "metadata": {},
   "outputs": [
    {
     "data": {
      "text/plain": [
       "True"
      ]
     },
     "execution_count": 9,
     "metadata": {},
     "output_type": "execute_result"
    }
   ],
   "source": [
    "6 > 3"
   ]
  },
  {
   "cell_type": "code",
   "execution_count": 10,
   "id": "b92eae3b",
   "metadata": {},
   "outputs": [
    {
     "data": {
      "text/plain": [
       "True"
      ]
     },
     "execution_count": 10,
     "metadata": {},
     "output_type": "execute_result"
    }
   ],
   "source": [
    "4 < 8"
   ]
  },
  {
   "cell_type": "code",
   "execution_count": 11,
   "id": "7db55d6c",
   "metadata": {},
   "outputs": [
    {
     "data": {
      "text/plain": [
       "True"
      ]
     },
     "execution_count": 11,
     "metadata": {},
     "output_type": "execute_result"
    }
   ],
   "source": [
    "4 >= 4"
   ]
  },
  {
   "cell_type": "code",
   "execution_count": 12,
   "id": "50a57271",
   "metadata": {},
   "outputs": [
    {
     "name": "stdout",
     "output_type": "stream",
     "text": [
      "Showww!!\n"
     ]
    }
   ],
   "source": [
    "if 5 == 5:\n",
    "    print('Showww!!')"
   ]
  },
  {
   "cell_type": "code",
   "execution_count": 13,
   "id": "75d7d4d0",
   "metadata": {},
   "outputs": [
    {
     "name": "stdout",
     "output_type": "stream",
     "text": [
      "Eh, funciona\n"
     ]
    }
   ],
   "source": [
    "if True:\n",
    "    print('Eh, funciona')"
   ]
  },
  {
   "cell_type": "markdown",
   "id": "98db47ee",
   "metadata": {},
   "source": [
    "# Condicionais Aninhados"
   ]
  },
  {
   "cell_type": "code",
   "execution_count": 14,
   "id": "e320186d",
   "metadata": {},
   "outputs": [
    {
     "name": "stdout",
     "output_type": "stream",
     "text": [
      "Você pode dirigir!\n"
     ]
    }
   ],
   "source": [
    "idade = 18\n",
    "if idade > 17:\n",
    "    print('Você pode dirigir!')"
   ]
  },
  {
   "cell_type": "code",
   "execution_count": 15,
   "id": "9ecaf6a2",
   "metadata": {},
   "outputs": [
    {
     "name": "stdout",
     "output_type": "stream",
     "text": [
      "Ta convidado pra festa Bob, pode entrar parceiro\n"
     ]
    }
   ],
   "source": [
    "nome = 'Bob'\n",
    "if idade > 13:\n",
    "    if nome == 'Bob':\n",
    "        print('Ta convidado pra festa Bob, pode entrar parceiro')\n",
    "    else:\n",
    "        print('Quem é tu??? Saí fora bixo')"
   ]
  },
  {
   "cell_type": "code",
   "execution_count": 16,
   "id": "e726847f",
   "metadata": {},
   "outputs": [
    {
     "name": "stdout",
     "output_type": "stream",
     "text": [
      "Ta convidado pra festa Bob, pode entrar parceiro\n"
     ]
    }
   ],
   "source": [
    "idade = 13\n",
    "nome = 'Bob'\n",
    "if idade >= 13 and nome == 'Bob':\n",
    "    print('Ta convidado pra festa Bob, pode entrar parceiro')"
   ]
  },
  {
   "cell_type": "code",
   "execution_count": 18,
   "id": "3c7e6e0d",
   "metadata": {},
   "outputs": [
    {
     "name": "stdout",
     "output_type": "stream",
     "text": [
      "Ta convidado pra festa Bob, pode entrar parceiro\n"
     ]
    }
   ],
   "source": [
    "# O parenteses não é obrigatório de usar em condicionais, porém fica bunitinho\n",
    "idade = 13\n",
    "nome = 'Bob'\n",
    "if (idade >= 13) or (nome == 'Bob'):\n",
    "    print('Ta convidado pra festa Bob, pode entrar parceiro')"
   ]
  },
  {
   "cell_type": "markdown",
   "id": "5cb127ce",
   "metadata": {},
   "source": [
    "# Operadores Lógicos"
   ]
  },
  {
   "cell_type": "markdown",
   "id": "b79303f9",
   "metadata": {},
   "source": [
    "# Fim"
   ]
  }
 ],
 "metadata": {
  "kernelspec": {
   "display_name": "Python 3 (ipykernel)",
   "language": "python",
   "name": "python3"
  },
  "language_info": {
   "codemirror_mode": {
    "name": "ipython",
    "version": 3
   },
   "file_extension": ".py",
   "mimetype": "text/x-python",
   "name": "python",
   "nbconvert_exporter": "python",
   "pygments_lexer": "ipython3",
   "version": "3.9.16"
  }
 },
 "nbformat": 4,
 "nbformat_minor": 5
}
